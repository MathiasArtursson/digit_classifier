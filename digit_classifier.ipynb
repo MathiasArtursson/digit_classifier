{
 "cells": [
  {
   "cell_type": "markdown",
   "id": "coral-settle",
   "metadata": {},
   "source": [
    "# Digit classifier with pytorch"
   ]
  },
  {
   "cell_type": "markdown",
   "id": "right-radical",
   "metadata": {},
   "source": [
    "## Settings"
   ]
  },
  {
   "cell_type": "markdown",
   "id": "running-zealand",
   "metadata": {},
   "source": [
    "*%matplotlib inline* allows for plots inside the notebook.\n",
    "Edge items for the print options for tensors are limited, which prints less information for tensors.\n",
    "A manual seed is also set for pytorch."
   ]
  },
  {
   "cell_type": "code",
   "execution_count": 88,
   "id": "confidential-shame",
   "metadata": {},
   "outputs": [
    {
     "data": {
      "text/plain": [
       "<torch._C.Generator at 0x7fe72f135930>"
      ]
     },
     "execution_count": 88,
     "metadata": {},
     "output_type": "execute_result"
    }
   ],
   "source": [
    "%matplotlib inline\n",
    "import torch\n",
    "\n",
    "torch.set_printoptions(edgeitems=2)\n",
    "torch.manual_seed(123)"
   ]
  },
  {
   "cell_type": "markdown",
   "id": "every-bracelet",
   "metadata": {},
   "source": [
    "Training device is set, which is either the cpu (slower) or gpu (faster). *torch.cuda.is_available()* evaluates if a compatible gpu is available."
   ]
  },
  {
   "cell_type": "code",
   "execution_count": 89,
   "id": "revised-winner",
   "metadata": {},
   "outputs": [
    {
     "name": "stdout",
     "output_type": "stream",
     "text": [
      "Training device: cpu\n"
     ]
    }
   ],
   "source": [
    "device = (torch.device('cuda') if torch.cuda.is_available() else torch.device('cpu'))\n",
    "print(\"Training device: {}\".format(device))"
   ]
  },
  {
   "cell_type": "markdown",
   "id": "breathing-geography",
   "metadata": {},
   "source": [
    "## Prepare dataset"
   ]
  },
  {
   "cell_type": "markdown",
   "id": "critical-wilson",
   "metadata": {},
   "source": [
    "Datasets are downloaded into a new folder in the current directory, if not already found there. Samples are stored as tuples, where images are tensors and labels are integers. "
   ]
  },
  {
   "cell_type": "code",
   "execution_count": 90,
   "id": "verbal-stuart",
   "metadata": {},
   "outputs": [],
   "source": [
    "from torchvision import datasets\n",
    "from torchvision import transforms\n",
    "import os\n",
    "\n",
    "data_path = data_path = os.getcwd() + '/dataset'\n",
    "\n",
    "tensor_mnist = datasets.MNIST(data_path, train=True, download=True, transform=transforms.ToTensor())\n",
    "tensor_mnist_val = datasets.MNIST(data_path, train=False, download=True, transform=transforms.ToTensor())"
   ]
  },
  {
   "cell_type": "markdown",
   "id": "tribal-peace",
   "metadata": {},
   "source": [
    "Information for the datasets and samples are presented. Note that the axes are needed to be changed from C × H × W to H × W × C to allow for plots. This is done with *permute*."
   ]
  },
  {
   "cell_type": "code",
   "execution_count": 91,
   "id": "final-implement",
   "metadata": {},
   "outputs": [
    {
     "name": "stdout",
     "output_type": "stream",
     "text": [
      "Number of samples in training set: 60000\n",
      "Number of samples in validation set: 10000\n",
      "Sample shape: torch.Size([1, 28, 28])\n",
      "Pixel data type: torch.float32\n",
      "Minimum pixel value: 0.0\n",
      "Maximum pixel value: 1.0\n",
      "\n",
      "Example with label = 5:\n"
     ]
    },
    {
     "data": {
      "image/png": "[encoded data removed]",
      "text/plain": [
       "<Figure size 432x288 with 1 Axes>"
      ]
     },
     "metadata": {
      "needs_background": "light"
     },
     "output_type": "display_data"
    }
   ],
   "source": [
    "import matplotlib.pyplot as plt\n",
    "\n",
    "img_t, label = tensor_mnist[0]\n",
    "\n",
    "print(\"Number of samples in training set: {}\".format(len(tensor_mnist)),\n",
    "      \"Number of samples in validation set: {}\".format(len(tensor_mnist_val)),\n",
    "      \"Sample shape: {}\".format(img_t.shape),\n",
    "      \"Pixel data type: {}\".format(img_t.dtype),\n",
    "      \"Minimum pixel value: {}\".format(img_t.min()),\n",
    "      \"Maximum pixel value: {}\".format(img_t.max()),\n",
    "      sep = '\\n')\n",
    "\n",
    "print(\"\\nExample with label = {}:\".format(label))\n",
    "# Axes are changed from C × H × W to H × W × C to allow for plots.\n",
    "plt.imshow(img_t.permute(1, 2, 0)) \n",
    "plt.show()"
   ]
  },
  {
   "cell_type": "markdown",
   "id": "canadian-permission",
   "metadata": {},
   "source": [
    "Data is normalized to ease training further on. This is done as follows:\n",
    "$$\\tilde{x}^i_j = \\frac{x^i_j - \\mu_j}{\\sigma_j}$$\n",
    ", where $\\tilde{x}^i_j$ is the normalized data from sample $i$ and feature $j$, $x^i_j$ the raw data from sample $i$ and feature $j$, $\\mu_j$ the mean over all samples for feature $j$, and $\\sigma_j$ the standard deviation over all sampltes for feature $j$.\n",
    "\n",
    "The mean and standard deviation for all samples are computed by stacking them.\n",
    "\n",
    "The stacked tensor is unrolled using *view*."
   ]
  },
  {
   "cell_type": "code",
   "execution_count": 92,
   "id": "reasonable-interstate",
   "metadata": {},
   "outputs": [
    {
     "name": "stdout",
     "output_type": "stream",
     "text": [
      "Stacked data: torch.Size([1, 28, 28, 60000])\n",
      "Mean of all pixels: 0.1307\n",
      "Standard deviation of all pixels: 0.3081\n"
     ]
    }
   ],
   "source": [
    "# Stack samples\n",
    "imgs = torch.stack([img_t for img_t, _ in tensor_mnist], dim=3)\n",
    "print(\"Stacked data: {}\".format(imgs.shape))\n",
    "\n",
    "\n",
    "# view(1, -1) keeps the first channel and merges all the remaining dimensions into one. \n",
    "# Our 1 × 28 × 28 x 60000 images are transformed into a 1 x (28*28*60000) tensor.\n",
    "imgs_mean = imgs.view(1, -1).mean(dim=1)\n",
    "imgs_std = imgs.view(1, -1).std(dim=1)\n",
    "\n",
    "print(\"Mean of all pixels: {:0.4f}\".format(imgs_mean[0]),\n",
    "      \"Standard deviation of all pixels: {:0.4f}\".format(imgs_std[0]),\n",
    "      sep = '\\n')"
   ]
  },
  {
   "cell_type": "markdown",
   "id": "prepared-diversity",
   "metadata": {},
   "source": [
    "Normalized datasets are fetched using the computed mean and standard deviation. \n",
    "\n",
    "Note that the validation set is normalized with the training set mean and standard deviation. This is because the model will be shaped by the training set. The validation set must therefore have the same data preproccessing, so that the model will recognize validation set samples."
   ]
  },
  {
   "cell_type": "code",
   "execution_count": 93,
   "id": "green-natural",
   "metadata": {},
   "outputs": [],
   "source": [
    "normalized_mnist = datasets.MNIST(data_path, train=True, download=False,\n",
    "                                       transform=transforms.Compose([\n",
    "                                           transforms.ToTensor(),\n",
    "                                           transforms.Normalize(imgs_mean, imgs_std)]))\n",
    "\n",
    "normalized_mnist_val = datasets.MNIST(data_path, train=False, download=False,\n",
    "                                       transform=transforms.Compose([\n",
    "                                           transforms.ToTensor(),\n",
    "                                           transforms.Normalize(imgs_mean, imgs_std)]))"
   ]
  },
  {
   "cell_type": "markdown",
   "id": "every-solomon",
   "metadata": {},
   "source": [
    "The datasets are prepared for training and evaluation by being put in data loaders. This makes the data compatible with forward- and backpropagation methods. \n",
    "\n",
    "The data is also divided into batches. This is made because the training set is very large, and using the whole dataset for forward- and backpropagation would be very computationally expensive."
   ]
  },
  {
   "cell_type": "code",
   "execution_count": 94,
   "id": "skilled-terminology",
   "metadata": {},
   "outputs": [
    {
     "name": "stdout",
     "output_type": "stream",
     "text": [
      "60000\n",
      "Help on MNIST in module torchvision.datasets.mnist object:\n",
      "\n",
      "class MNIST(torchvision.datasets.vision.VisionDataset)\n",
      " |  MNIST(*args, **kwds)\n",
      " |  \n",
      " |  `MNIST <http://yann.lecun.com/exdb/mnist/>`_ Dataset.\n",
      " |  \n",
      " |  Args:\n",
      " |      root (string): Root directory of dataset where ``MNIST/processed/training.pt``\n",
      " |          and  ``MNIST/processed/test.pt`` exist.\n",
      " |      train (bool, optional): If True, creates dataset from ``training.pt``,\n",
      " |          otherwise from ``test.pt``.\n",
      " |      download (bool, optional): If true, downloads the dataset from the internet and\n",
      " |          puts it in root directory. If dataset is already downloaded, it is not\n",
      " |          downloaded again.\n",
      " |      transform (callable, optional): A function/transform that  takes in an PIL image\n",
      " |          and returns a transformed version. E.g, ``transforms.RandomCrop``\n",
      " |      target_transform (callable, optional): A function/transform that takes in the\n",
      " |          target and transforms it.\n",
      " |  \n",
      " |  Method resolution order:\n",
      " |      MNIST\n",
      " |      torchvision.datasets.vision.VisionDataset\n",
      " |      torch.utils.data.dataset.Dataset\n",
      " |      typing.Generic\n",
      " |      builtins.object\n",
      " |  \n",
      " |  Methods defined here:\n",
      " |  \n",
      " |  __getitem__(self, index: int) -> Tuple[Any, Any]\n",
      " |      Args:\n",
      " |          index (int): Index\n",
      " |      \n",
      " |      Returns:\n",
      " |          tuple: (image, target) where target is index of the target class.\n",
      " |  \n",
      " |  __init__(self, root: str, train: bool = True, transform: Union[Callable, NoneType] = None, target_transform: Union[Callable, NoneType] = None, download: bool = False) -> None\n",
      " |      Initialize self.  See help(type(self)) for accurate signature.\n",
      " |  \n",
      " |  __len__(self) -> int\n",
      " |  \n",
      " |  download(self) -> None\n",
      " |      Download the MNIST data if it doesn't exist in processed_folder already.\n",
      " |  \n",
      " |  extra_repr(self) -> str\n",
      " |  \n",
      " |  ----------------------------------------------------------------------\n",
      " |  Readonly properties defined here:\n",
      " |  \n",
      " |  class_to_idx\n",
      " |  \n",
      " |  processed_folder\n",
      " |  \n",
      " |  raw_folder\n",
      " |  \n",
      " |  test_data\n",
      " |  \n",
      " |  test_labels\n",
      " |  \n",
      " |  train_data\n",
      " |  \n",
      " |  train_labels\n",
      " |  \n",
      " |  ----------------------------------------------------------------------\n",
      " |  Data and other attributes defined here:\n",
      " |  \n",
      " |  __parameters__ = ()\n",
      " |  \n",
      " |  classes = ['0 - zero', '1 - one', '2 - two', '3 - three', '4 - four', ...\n",
      " |  \n",
      " |  resources = [('http://yann.lecun.com/exdb/mnist/train-images-idx3-ubyt...\n",
      " |  \n",
      " |  test_file = 'test.pt'\n",
      " |  \n",
      " |  training_file = 'training.pt'\n",
      " |  \n",
      " |  ----------------------------------------------------------------------\n",
      " |  Methods inherited from torchvision.datasets.vision.VisionDataset:\n",
      " |  \n",
      " |  __repr__(self) -> str\n",
      " |      Return repr(self).\n",
      " |  \n",
      " |  ----------------------------------------------------------------------\n",
      " |  Methods inherited from torch.utils.data.dataset.Dataset:\n",
      " |  \n",
      " |  __add__(self, other: 'Dataset[T_co]') -> 'ConcatDataset[T_co]'\n",
      " |  \n",
      " |  ----------------------------------------------------------------------\n",
      " |  Data descriptors inherited from torch.utils.data.dataset.Dataset:\n",
      " |  \n",
      " |  __dict__\n",
      " |      dictionary for instance variables (if defined)\n",
      " |  \n",
      " |  __weakref__\n",
      " |      list of weak references to the object (if defined)\n",
      " |  \n",
      " |  ----------------------------------------------------------------------\n",
      " |  Data and other attributes inherited from torch.utils.data.dataset.Dataset:\n",
      " |  \n",
      " |  __orig_bases__ = (typing.Generic[+T_co],)\n",
      " |  \n",
      " |  ----------------------------------------------------------------------\n",
      " |  Class methods inherited from typing.Generic:\n",
      " |  \n",
      " |  __class_getitem__(params) from builtins.type\n",
      " |  \n",
      " |  __init_subclass__(*args, **kwargs) from builtins.type\n",
      " |      This method is called when a class is subclassed.\n",
      " |      \n",
      " |      The default implementation does nothing. It may be\n",
      " |      overridden to extend subclasses.\n",
      " |  \n",
      " |  ----------------------------------------------------------------------\n",
      " |  Static methods inherited from typing.Generic:\n",
      " |  \n",
      " |  __new__(cls, *args, **kwds)\n",
      " |      Create and return a new object.  See help(type) for accurate signature.\n",
      "\n"
     ]
    }
   ],
   "source": [
    "batch_size = 16\n",
    "\n",
    "val_loader = torch.utils.data.DataLoader(normalized_mnist_val, batch_size=batch_size, shuffle=False)\n",
    "\n",
    "#for imgs_val, labels_val in val_loader:\n",
    "#    print(\"Batch of validation images: {}\".format(imgs_val.shape),\n",
    "#          \"Batch of validation labels: {}\".format(labels_val.shape),\n",
    "#          sep = \"\\n\")\n",
    "#    break\n",
    "\n",
    "print(len(normalized_mnist))\n",
    "help(normalized_mnist)\n",
    "#train_subset = normalized_mnist_val[:10]\n"
   ]
  },
  {
   "cell_type": "markdown",
   "id": "stuffed-photography",
   "metadata": {},
   "source": [
    "Large obsolete objects are deleted from memory."
   ]
  },
  {
   "cell_type": "code",
   "execution_count": 95,
   "id": "imperial-parcel",
   "metadata": {},
   "outputs": [],
   "source": [
    "del imgs\n",
    "del tensor_mnist\n",
    "del tensor_mnist_val"
   ]
  },
  {
   "cell_type": "markdown",
   "id": "public-vienna",
   "metadata": {},
   "source": [
    "## Initialize model"
   ]
  },
  {
   "cell_type": "markdown",
   "id": "varied-tennis",
   "metadata": {},
   "source": [
    "A neural network is initialized with one hidden layer."
   ]
  },
  {
   "cell_type": "code",
   "execution_count": 132,
   "id": "finite-masters",
   "metadata": {},
   "outputs": [],
   "source": [
    "# Initialize linear neural network model with one hidden layer. \n",
    "\n",
    "import torch.nn as nn\n",
    "\n",
    "hidden_features = 250\n",
    "\n",
    "model = nn.Sequential(\n",
    "    nn.Linear(784, hidden_features),\n",
    "    nn.Sigmoid(),\n",
    "    nn.Linear(hidden_features, 10),\n",
    "    nn.LogSoftmax(dim=1))          # Converts output vector first to proabilities by\n",
    "                                   # applying function torch.exp(x) / torch.exp(x).sum()\n",
    "                                   # It then takes the log of this. We need the natural logarithmic\n",
    "                                   # expression for the cost later on, and doing the \n",
    "                                   # calculation of ln in the model helps stability"
   ]
  },
  {
   "cell_type": "code",
   "execution_count": 108,
   "id": "humanitarian-oasis",
   "metadata": {},
   "outputs": [
    {
     "name": "stdout",
     "output_type": "stream",
     "text": [
      "Raw image shape: torch.Size([1, 28, 28]), Raw image stride: (1, 28, 1)\n",
      "Unrolled image shape: torch.Size([1, 784]), Unrolled image stride: (784, 1)\n",
      "Label tensor shape: torch.Size([1])\n"
     ]
    }
   ],
   "source": [
    "# Shaping input data\n",
    "# This is done by unrolling the 28x28 image into a 1D vector.\n",
    "# Unrolling is done through \"view\", which changes the stride \n",
    "# of the contiguous linear container of numbers in memory.\n",
    "# view(-1) changes the stride so that the resulting shape becomes\n",
    "# torch.Size([a]), where \"a\" is \"however many indexes are\n",
    "# left, given the other dimensions and the original number of elements.”\n",
    "\n",
    "img, label = normalized_mnist[0]\n",
    "img_unrolled = img.view(-1).unsqueeze(0)    # Cost function requires the first dimension to be the batch, hence we need to add one dimension with unsqueeze \n",
    "label_tensor = torch.tensor([label])\n",
    "\n",
    "print(\"Raw image shape: {}, Raw image stride: {}\".format(img.shape, img.stride()),\n",
    "     \"Unrolled image shape: {}, Unrolled image stride: {}\".format(img_unrolled.shape, img_unrolled.stride()),\n",
    "     \"Label tensor shape: {}\".format(label_tensor.shape),\n",
    "     sep = \"\\n\")\n"
   ]
  },
  {
   "cell_type": "code",
   "execution_count": 109,
   "id": "herbal-taste",
   "metadata": {},
   "outputs": [
    {
     "name": "stdout",
     "output_type": "stream",
     "text": [
      "Label: 5\n",
      "Output from model: tensor([[-2.5628, -2.4362, -2.0545, -1.8584, -2.0896, -2.6426, -2.1723, -2.1898,\n",
      "         -2.7706, -2.6892]], grad_fn=<LogSoftmaxBackward>)\n",
      "Hypothesis probabilities from model: tensor([[0.0771, 0.0875, 0.1282, 0.1559, 0.1237, 0.0712, 0.1139, 0.1119, 0.0626,\n",
      "         0.0679]])\n",
      "The largest probability from the model is 0.1559, i.e. the predicted label is 3.\n"
     ]
    }
   ],
   "source": [
    "# Invoke model\n",
    "import math\n",
    "\n",
    "out = model(img_unrolled)    # natural logarithm of hypothesis probabilities from model \n",
    "out_probabilities = math.e ** out.detach()\n",
    "largest_probability, predicted_label = torch.max(out_probabilities, dim=1)\n",
    "print(\"Label: {}\".format(label),\n",
    "      \"Output from model: {}\".format(out),\n",
    "      \"Hypothesis probabilities from model: {}\".format(out_probabilities),\n",
    "      \"The largest probability from the model is {:0.4f}, i.e. the predicted label is {}.\".format(largest_probability[0], predicted_label[0]),\n",
    "      sep = \"\\n\")"
   ]
  },
  {
   "cell_type": "code",
   "execution_count": 120,
   "id": "adjusted-message",
   "metadata": {},
   "outputs": [],
   "source": [
    "# Instatiate loss function\n",
    "loss_fn = nn.NLLLoss()"
   ]
  },
  {
   "cell_type": "code",
   "execution_count": 111,
   "id": "amazing-vocabulary",
   "metadata": {},
   "outputs": [
    {
     "data": {
      "text/plain": [
       "tensor(2.6426, grad_fn=<NllLossBackward>)"
      ]
     },
     "execution_count": 111,
     "metadata": {},
     "output_type": "execute_result"
    }
   ],
   "source": [
    "# Calculate loss for test image\n",
    "loss_fn(out, label_tensor) #Calculates sum(-out[label])"
   ]
  },
  {
   "cell_type": "code",
   "execution_count": 139,
   "id": "institutional-highway",
   "metadata": {},
   "outputs": [
    {
     "name": "stdout",
     "output_type": "stream",
     "text": [
      "16\n"
     ]
    }
   ],
   "source": [
    "# Prepare training set sizes for learning curves\n",
    "training_set_sizes = torch.tensor([1200, 2400, 6000, 20000, 30000, 40000, 50000, 60000])\n",
    "\n",
    "\n",
    "\n",
    "trainset_1 = torch.utils.data.Subset(normalized_mnist, list(range(0, 16)))\n",
    "print(len(trainset_1))"
   ]
  },
  {
   "cell_type": "code",
   "execution_count": 140,
   "id": "generic-affairs",
   "metadata": {},
   "outputs": [
    {
     "name": "stdout",
     "output_type": "stream",
     "text": [
      "Training set size: 1200, Epoch: 0, Epoch time: 1.6 s, Average epoch training loss: 0.0060\n",
      "Training set size: 1200, Epoch: 1, Epoch time: 1.2 s, Average epoch training loss: 0.0036\n",
      "Training set size: 1200, Epoch: 2, Epoch time: 1.0 s, Average epoch training loss: 0.0030\n",
      "Training set size: 1200, Epoch: 3, Epoch time: 1.0 s, Average epoch training loss: 0.0026\n",
      "Training set size: 1200, Epoch: 4, Epoch time: 1.0 s, Average epoch training loss: 0.0023\n",
      "Training set size: 1200, Epoch: 5, Epoch time: 1.0 s, Average epoch training loss: 0.0020\n",
      "Loss_sum_train: 0.1387304961681366, Train loader length: 75\n",
      "Loss_sum_val: 95.93080139160156, Val loader length: 625\n",
      "Model training complete. Training set size: 1200, Training time: 15.3 s, Training set loss: 0.0018, Validation set loss: 0.1535\n",
      "Training set size: 2400, Epoch: 0, Epoch time: 2.0 s, Average epoch training loss: 0.0047\n",
      "Training set size: 2400, Epoch: 1, Epoch time: 2.0 s, Average epoch training loss: 0.0027\n",
      "Training set size: 2400, Epoch: 2, Epoch time: 2.1 s, Average epoch training loss: 0.0021\n",
      "Training set size: 2400, Epoch: 3, Epoch time: 2.0 s, Average epoch training loss: 0.0018\n",
      "Training set size: 2400, Epoch: 4, Epoch time: 2.0 s, Average epoch training loss: 0.0017\n",
      "Training set size: 2400, Epoch: 5, Epoch time: 2.0 s, Average epoch training loss: 0.0015\n",
      "Loss_sum_train: 0.20981241762638092, Train loader length: 150\n",
      "Loss_sum_val: 95.47142791748047, Val loader length: 625\n",
      "Model training complete. Training set size: 2400, Training time: 20.1 s, Training set loss: 0.0014, Validation set loss: 0.1528\n",
      "Training set size: 6000, Epoch: 0, Epoch time: 4.9 s, Average epoch training loss: 0.0217\n",
      "Training set size: 6000, Epoch: 1, Epoch time: 5.1 s, Average epoch training loss: 0.0099\n",
      "Training set size: 6000, Epoch: 2, Epoch time: 5.0 s, Average epoch training loss: 0.0049\n",
      "Training set size: 6000, Epoch: 3, Epoch time: 6.4 s, Average epoch training loss: 0.0028\n",
      "Training set size: 6000, Epoch: 4, Epoch time: 6.1 s, Average epoch training loss: 0.0020\n",
      "Training set size: 6000, Epoch: 5, Epoch time: 4.9 s, Average epoch training loss: 0.0018\n"
     ]
    },
    {
     "ename": "KeyboardInterrupt",
     "evalue": "",
     "output_type": "error",
     "traceback": [
      "\u001b[0;31m---------------------------------------------------------------------------\u001b[0m",
      "\u001b[0;31mKeyboardInterrupt\u001b[0m                         Traceback (most recent call last)",
      "\u001b[0;32m<ipython-input-140-56d8478f536d>\u001b[0m in \u001b[0;36m<module>\u001b[0;34m\u001b[0m\n\u001b[1;32m     61\u001b[0m             \u001b[0mloss_sum_train\u001b[0m \u001b[0;34m+=\u001b[0m \u001b[0mloss_fn\u001b[0m\u001b[0;34m(\u001b[0m\u001b[0moutputs_train\u001b[0m\u001b[0;34m,\u001b[0m \u001b[0mlabels_train\u001b[0m\u001b[0;34m)\u001b[0m\u001b[0;34m.\u001b[0m\u001b[0mdetach\u001b[0m\u001b[0;34m(\u001b[0m\u001b[0;34m)\u001b[0m\u001b[0;34m\u001b[0m\u001b[0;34m\u001b[0m\u001b[0m\n\u001b[1;32m     62\u001b[0m \u001b[0;34m\u001b[0m\u001b[0m\n\u001b[0;32m---> 63\u001b[0;31m         \u001b[0;32mfor\u001b[0m \u001b[0mimgs_val\u001b[0m\u001b[0;34m,\u001b[0m \u001b[0mlabels_val\u001b[0m \u001b[0;32min\u001b[0m \u001b[0mval_loader\u001b[0m\u001b[0;34m:\u001b[0m\u001b[0;34m\u001b[0m\u001b[0;34m\u001b[0m\u001b[0m\n\u001b[0m\u001b[1;32m     64\u001b[0m             \u001b[0mimgs_val\u001b[0m \u001b[0;34m=\u001b[0m \u001b[0mimgs_val\u001b[0m\u001b[0;34m.\u001b[0m\u001b[0mto\u001b[0m\u001b[0;34m(\u001b[0m\u001b[0mdevice\u001b[0m\u001b[0;34m=\u001b[0m\u001b[0mdevice\u001b[0m\u001b[0;34m)\u001b[0m \u001b[0;31m#Move tensor to device\u001b[0m\u001b[0;34m\u001b[0m\u001b[0;34m\u001b[0m\u001b[0m\n\u001b[1;32m     65\u001b[0m             \u001b[0mlabels_val\u001b[0m \u001b[0;34m=\u001b[0m \u001b[0mlabels_val\u001b[0m\u001b[0;34m.\u001b[0m\u001b[0mto\u001b[0m\u001b[0;34m(\u001b[0m\u001b[0mdevice\u001b[0m\u001b[0;34m=\u001b[0m\u001b[0mdevice\u001b[0m\u001b[0;34m)\u001b[0m \u001b[0;31m#Move tensor to device\u001b[0m\u001b[0;34m\u001b[0m\u001b[0;34m\u001b[0m\u001b[0m\n",
      "\u001b[0;32m~/miniconda3/lib/python3.8/site-packages/torch/utils/data/dataloader.py\u001b[0m in \u001b[0;36m__next__\u001b[0;34m(self)\u001b[0m\n\u001b[1;32m    433\u001b[0m         \u001b[0;32mif\u001b[0m \u001b[0mself\u001b[0m\u001b[0;34m.\u001b[0m\u001b[0m_sampler_iter\u001b[0m \u001b[0;32mis\u001b[0m \u001b[0;32mNone\u001b[0m\u001b[0;34m:\u001b[0m\u001b[0;34m\u001b[0m\u001b[0;34m\u001b[0m\u001b[0m\n\u001b[1;32m    434\u001b[0m             \u001b[0mself\u001b[0m\u001b[0;34m.\u001b[0m\u001b[0m_reset\u001b[0m\u001b[0;34m(\u001b[0m\u001b[0;34m)\u001b[0m\u001b[0;34m\u001b[0m\u001b[0;34m\u001b[0m\u001b[0m\n\u001b[0;32m--> 435\u001b[0;31m         \u001b[0mdata\u001b[0m \u001b[0;34m=\u001b[0m \u001b[0mself\u001b[0m\u001b[0;34m.\u001b[0m\u001b[0m_next_data\u001b[0m\u001b[0;34m(\u001b[0m\u001b[0;34m)\u001b[0m\u001b[0;34m\u001b[0m\u001b[0;34m\u001b[0m\u001b[0m\n\u001b[0m\u001b[1;32m    436\u001b[0m         \u001b[0mself\u001b[0m\u001b[0;34m.\u001b[0m\u001b[0m_num_yielded\u001b[0m \u001b[0;34m+=\u001b[0m \u001b[0;36m1\u001b[0m\u001b[0;34m\u001b[0m\u001b[0;34m\u001b[0m\u001b[0m\n\u001b[1;32m    437\u001b[0m         \u001b[0;32mif\u001b[0m \u001b[0mself\u001b[0m\u001b[0;34m.\u001b[0m\u001b[0m_dataset_kind\u001b[0m \u001b[0;34m==\u001b[0m \u001b[0m_DatasetKind\u001b[0m\u001b[0;34m.\u001b[0m\u001b[0mIterable\u001b[0m \u001b[0;32mand\u001b[0m\u001b[0;31m \u001b[0m\u001b[0;31m\\\u001b[0m\u001b[0;34m\u001b[0m\u001b[0;34m\u001b[0m\u001b[0m\n",
      "\u001b[0;32m~/miniconda3/lib/python3.8/site-packages/torch/utils/data/dataloader.py\u001b[0m in \u001b[0;36m_next_data\u001b[0;34m(self)\u001b[0m\n\u001b[1;32m    473\u001b[0m     \u001b[0;32mdef\u001b[0m \u001b[0m_next_data\u001b[0m\u001b[0;34m(\u001b[0m\u001b[0mself\u001b[0m\u001b[0;34m)\u001b[0m\u001b[0;34m:\u001b[0m\u001b[0;34m\u001b[0m\u001b[0;34m\u001b[0m\u001b[0m\n\u001b[1;32m    474\u001b[0m         \u001b[0mindex\u001b[0m \u001b[0;34m=\u001b[0m \u001b[0mself\u001b[0m\u001b[0;34m.\u001b[0m\u001b[0m_next_index\u001b[0m\u001b[0;34m(\u001b[0m\u001b[0;34m)\u001b[0m  \u001b[0;31m# may raise StopIteration\u001b[0m\u001b[0;34m\u001b[0m\u001b[0;34m\u001b[0m\u001b[0m\n\u001b[0;32m--> 475\u001b[0;31m         \u001b[0mdata\u001b[0m \u001b[0;34m=\u001b[0m \u001b[0mself\u001b[0m\u001b[0;34m.\u001b[0m\u001b[0m_dataset_fetcher\u001b[0m\u001b[0;34m.\u001b[0m\u001b[0mfetch\u001b[0m\u001b[0;34m(\u001b[0m\u001b[0mindex\u001b[0m\u001b[0;34m)\u001b[0m  \u001b[0;31m# may raise StopIteration\u001b[0m\u001b[0;34m\u001b[0m\u001b[0;34m\u001b[0m\u001b[0m\n\u001b[0m\u001b[1;32m    476\u001b[0m         \u001b[0;32mif\u001b[0m \u001b[0mself\u001b[0m\u001b[0;34m.\u001b[0m\u001b[0m_pin_memory\u001b[0m\u001b[0;34m:\u001b[0m\u001b[0;34m\u001b[0m\u001b[0;34m\u001b[0m\u001b[0m\n\u001b[1;32m    477\u001b[0m             \u001b[0mdata\u001b[0m \u001b[0;34m=\u001b[0m \u001b[0m_utils\u001b[0m\u001b[0;34m.\u001b[0m\u001b[0mpin_memory\u001b[0m\u001b[0;34m.\u001b[0m\u001b[0mpin_memory\u001b[0m\u001b[0;34m(\u001b[0m\u001b[0mdata\u001b[0m\u001b[0;34m)\u001b[0m\u001b[0;34m\u001b[0m\u001b[0;34m\u001b[0m\u001b[0m\n",
      "\u001b[0;32m~/miniconda3/lib/python3.8/site-packages/torch/utils/data/_utils/fetch.py\u001b[0m in \u001b[0;36mfetch\u001b[0;34m(self, possibly_batched_index)\u001b[0m\n\u001b[1;32m     42\u001b[0m     \u001b[0;32mdef\u001b[0m \u001b[0mfetch\u001b[0m\u001b[0;34m(\u001b[0m\u001b[0mself\u001b[0m\u001b[0;34m,\u001b[0m \u001b[0mpossibly_batched_index\u001b[0m\u001b[0;34m)\u001b[0m\u001b[0;34m:\u001b[0m\u001b[0;34m\u001b[0m\u001b[0;34m\u001b[0m\u001b[0m\n\u001b[1;32m     43\u001b[0m         \u001b[0;32mif\u001b[0m \u001b[0mself\u001b[0m\u001b[0;34m.\u001b[0m\u001b[0mauto_collation\u001b[0m\u001b[0;34m:\u001b[0m\u001b[0;34m\u001b[0m\u001b[0;34m\u001b[0m\u001b[0m\n\u001b[0;32m---> 44\u001b[0;31m             \u001b[0mdata\u001b[0m \u001b[0;34m=\u001b[0m \u001b[0;34m[\u001b[0m\u001b[0mself\u001b[0m\u001b[0;34m.\u001b[0m\u001b[0mdataset\u001b[0m\u001b[0;34m[\u001b[0m\u001b[0midx\u001b[0m\u001b[0;34m]\u001b[0m \u001b[0;32mfor\u001b[0m \u001b[0midx\u001b[0m \u001b[0;32min\u001b[0m \u001b[0mpossibly_batched_index\u001b[0m\u001b[0;34m]\u001b[0m\u001b[0;34m\u001b[0m\u001b[0;34m\u001b[0m\u001b[0m\n\u001b[0m\u001b[1;32m     45\u001b[0m         \u001b[0;32melse\u001b[0m\u001b[0;34m:\u001b[0m\u001b[0;34m\u001b[0m\u001b[0;34m\u001b[0m\u001b[0m\n\u001b[1;32m     46\u001b[0m             \u001b[0mdata\u001b[0m \u001b[0;34m=\u001b[0m \u001b[0mself\u001b[0m\u001b[0;34m.\u001b[0m\u001b[0mdataset\u001b[0m\u001b[0;34m[\u001b[0m\u001b[0mpossibly_batched_index\u001b[0m\u001b[0;34m]\u001b[0m\u001b[0;34m\u001b[0m\u001b[0;34m\u001b[0m\u001b[0m\n",
      "\u001b[0;32m~/miniconda3/lib/python3.8/site-packages/torch/utils/data/_utils/fetch.py\u001b[0m in \u001b[0;36m<listcomp>\u001b[0;34m(.0)\u001b[0m\n\u001b[1;32m     42\u001b[0m     \u001b[0;32mdef\u001b[0m \u001b[0mfetch\u001b[0m\u001b[0;34m(\u001b[0m\u001b[0mself\u001b[0m\u001b[0;34m,\u001b[0m \u001b[0mpossibly_batched_index\u001b[0m\u001b[0;34m)\u001b[0m\u001b[0;34m:\u001b[0m\u001b[0;34m\u001b[0m\u001b[0;34m\u001b[0m\u001b[0m\n\u001b[1;32m     43\u001b[0m         \u001b[0;32mif\u001b[0m \u001b[0mself\u001b[0m\u001b[0;34m.\u001b[0m\u001b[0mauto_collation\u001b[0m\u001b[0;34m:\u001b[0m\u001b[0;34m\u001b[0m\u001b[0;34m\u001b[0m\u001b[0m\n\u001b[0;32m---> 44\u001b[0;31m             \u001b[0mdata\u001b[0m \u001b[0;34m=\u001b[0m \u001b[0;34m[\u001b[0m\u001b[0mself\u001b[0m\u001b[0;34m.\u001b[0m\u001b[0mdataset\u001b[0m\u001b[0;34m[\u001b[0m\u001b[0midx\u001b[0m\u001b[0;34m]\u001b[0m \u001b[0;32mfor\u001b[0m \u001b[0midx\u001b[0m \u001b[0;32min\u001b[0m \u001b[0mpossibly_batched_index\u001b[0m\u001b[0;34m]\u001b[0m\u001b[0;34m\u001b[0m\u001b[0;34m\u001b[0m\u001b[0m\n\u001b[0m\u001b[1;32m     45\u001b[0m         \u001b[0;32melse\u001b[0m\u001b[0;34m:\u001b[0m\u001b[0;34m\u001b[0m\u001b[0;34m\u001b[0m\u001b[0m\n\u001b[1;32m     46\u001b[0m             \u001b[0mdata\u001b[0m \u001b[0;34m=\u001b[0m \u001b[0mself\u001b[0m\u001b[0;34m.\u001b[0m\u001b[0mdataset\u001b[0m\u001b[0;34m[\u001b[0m\u001b[0mpossibly_batched_index\u001b[0m\u001b[0;34m]\u001b[0m\u001b[0;34m\u001b[0m\u001b[0;34m\u001b[0m\u001b[0m\n",
      "\u001b[0;32m~/miniconda3/lib/python3.8/site-packages/torchvision/datasets/mnist.py\u001b[0m in \u001b[0;36m__getitem__\u001b[0;34m(self, index)\u001b[0m\n\u001b[1;32m    104\u001b[0m \u001b[0;34m\u001b[0m\u001b[0m\n\u001b[1;32m    105\u001b[0m         \u001b[0;32mif\u001b[0m \u001b[0mself\u001b[0m\u001b[0;34m.\u001b[0m\u001b[0mtransform\u001b[0m \u001b[0;32mis\u001b[0m \u001b[0;32mnot\u001b[0m \u001b[0;32mNone\u001b[0m\u001b[0;34m:\u001b[0m\u001b[0;34m\u001b[0m\u001b[0;34m\u001b[0m\u001b[0m\n\u001b[0;32m--> 106\u001b[0;31m             \u001b[0mimg\u001b[0m \u001b[0;34m=\u001b[0m \u001b[0mself\u001b[0m\u001b[0;34m.\u001b[0m\u001b[0mtransform\u001b[0m\u001b[0;34m(\u001b[0m\u001b[0mimg\u001b[0m\u001b[0;34m)\u001b[0m\u001b[0;34m\u001b[0m\u001b[0;34m\u001b[0m\u001b[0m\n\u001b[0m\u001b[1;32m    107\u001b[0m \u001b[0;34m\u001b[0m\u001b[0m\n\u001b[1;32m    108\u001b[0m         \u001b[0;32mif\u001b[0m \u001b[0mself\u001b[0m\u001b[0;34m.\u001b[0m\u001b[0mtarget_transform\u001b[0m \u001b[0;32mis\u001b[0m \u001b[0;32mnot\u001b[0m \u001b[0;32mNone\u001b[0m\u001b[0;34m:\u001b[0m\u001b[0;34m\u001b[0m\u001b[0;34m\u001b[0m\u001b[0m\n",
      "\u001b[0;32m~/miniconda3/lib/python3.8/site-packages/torchvision/transforms/transforms.py\u001b[0m in \u001b[0;36m__call__\u001b[0;34m(self, img)\u001b[0m\n\u001b[1;32m     65\u001b[0m     \u001b[0;32mdef\u001b[0m \u001b[0m__call__\u001b[0m\u001b[0;34m(\u001b[0m\u001b[0mself\u001b[0m\u001b[0;34m,\u001b[0m \u001b[0mimg\u001b[0m\u001b[0;34m)\u001b[0m\u001b[0;34m:\u001b[0m\u001b[0;34m\u001b[0m\u001b[0;34m\u001b[0m\u001b[0m\n\u001b[1;32m     66\u001b[0m         \u001b[0;32mfor\u001b[0m \u001b[0mt\u001b[0m \u001b[0;32min\u001b[0m \u001b[0mself\u001b[0m\u001b[0;34m.\u001b[0m\u001b[0mtransforms\u001b[0m\u001b[0;34m:\u001b[0m\u001b[0;34m\u001b[0m\u001b[0;34m\u001b[0m\u001b[0m\n\u001b[0;32m---> 67\u001b[0;31m             \u001b[0mimg\u001b[0m \u001b[0;34m=\u001b[0m \u001b[0mt\u001b[0m\u001b[0;34m(\u001b[0m\u001b[0mimg\u001b[0m\u001b[0;34m)\u001b[0m\u001b[0;34m\u001b[0m\u001b[0;34m\u001b[0m\u001b[0m\n\u001b[0m\u001b[1;32m     68\u001b[0m         \u001b[0;32mreturn\u001b[0m \u001b[0mimg\u001b[0m\u001b[0;34m\u001b[0m\u001b[0;34m\u001b[0m\u001b[0m\n\u001b[1;32m     69\u001b[0m \u001b[0;34m\u001b[0m\u001b[0m\n",
      "\u001b[0;32m~/miniconda3/lib/python3.8/site-packages/torch/nn/modules/module.py\u001b[0m in \u001b[0;36m_call_impl\u001b[0;34m(self, *input, **kwargs)\u001b[0m\n\u001b[1;32m    725\u001b[0m             \u001b[0mresult\u001b[0m \u001b[0;34m=\u001b[0m \u001b[0mself\u001b[0m\u001b[0;34m.\u001b[0m\u001b[0m_slow_forward\u001b[0m\u001b[0;34m(\u001b[0m\u001b[0;34m*\u001b[0m\u001b[0minput\u001b[0m\u001b[0;34m,\u001b[0m \u001b[0;34m**\u001b[0m\u001b[0mkwargs\u001b[0m\u001b[0;34m)\u001b[0m\u001b[0;34m\u001b[0m\u001b[0;34m\u001b[0m\u001b[0m\n\u001b[1;32m    726\u001b[0m         \u001b[0;32melse\u001b[0m\u001b[0;34m:\u001b[0m\u001b[0;34m\u001b[0m\u001b[0;34m\u001b[0m\u001b[0m\n\u001b[0;32m--> 727\u001b[0;31m             \u001b[0mresult\u001b[0m \u001b[0;34m=\u001b[0m \u001b[0mself\u001b[0m\u001b[0;34m.\u001b[0m\u001b[0mforward\u001b[0m\u001b[0;34m(\u001b[0m\u001b[0;34m*\u001b[0m\u001b[0minput\u001b[0m\u001b[0;34m,\u001b[0m \u001b[0;34m**\u001b[0m\u001b[0mkwargs\u001b[0m\u001b[0;34m)\u001b[0m\u001b[0;34m\u001b[0m\u001b[0;34m\u001b[0m\u001b[0m\n\u001b[0m\u001b[1;32m    728\u001b[0m         for hook in itertools.chain(\n\u001b[1;32m    729\u001b[0m                 \u001b[0m_global_forward_hooks\u001b[0m\u001b[0;34m.\u001b[0m\u001b[0mvalues\u001b[0m\u001b[0;34m(\u001b[0m\u001b[0;34m)\u001b[0m\u001b[0;34m,\u001b[0m\u001b[0;34m\u001b[0m\u001b[0;34m\u001b[0m\u001b[0m\n",
      "\u001b[0;32m~/miniconda3/lib/python3.8/site-packages/torchvision/transforms/transforms.py\u001b[0m in \u001b[0;36mforward\u001b[0;34m(self, tensor)\u001b[0m\n\u001b[1;32m    224\u001b[0m             \u001b[0mTensor\u001b[0m\u001b[0;34m:\u001b[0m \u001b[0mNormalized\u001b[0m \u001b[0mTensor\u001b[0m \u001b[0mimage\u001b[0m\u001b[0;34m.\u001b[0m\u001b[0;34m\u001b[0m\u001b[0;34m\u001b[0m\u001b[0m\n\u001b[1;32m    225\u001b[0m         \"\"\"\n\u001b[0;32m--> 226\u001b[0;31m         \u001b[0;32mreturn\u001b[0m \u001b[0mF\u001b[0m\u001b[0;34m.\u001b[0m\u001b[0mnormalize\u001b[0m\u001b[0;34m(\u001b[0m\u001b[0mtensor\u001b[0m\u001b[0;34m,\u001b[0m \u001b[0mself\u001b[0m\u001b[0;34m.\u001b[0m\u001b[0mmean\u001b[0m\u001b[0;34m,\u001b[0m \u001b[0mself\u001b[0m\u001b[0;34m.\u001b[0m\u001b[0mstd\u001b[0m\u001b[0;34m,\u001b[0m \u001b[0mself\u001b[0m\u001b[0;34m.\u001b[0m\u001b[0minplace\u001b[0m\u001b[0;34m)\u001b[0m\u001b[0;34m\u001b[0m\u001b[0;34m\u001b[0m\u001b[0m\n\u001b[0m\u001b[1;32m    227\u001b[0m \u001b[0;34m\u001b[0m\u001b[0m\n\u001b[1;32m    228\u001b[0m     \u001b[0;32mdef\u001b[0m \u001b[0m__repr__\u001b[0m\u001b[0;34m(\u001b[0m\u001b[0mself\u001b[0m\u001b[0;34m)\u001b[0m\u001b[0;34m:\u001b[0m\u001b[0;34m\u001b[0m\u001b[0;34m\u001b[0m\u001b[0m\n",
      "\u001b[0;32m~/miniconda3/lib/python3.8/site-packages/torchvision/transforms/functional.py\u001b[0m in \u001b[0;36mnormalize\u001b[0;34m(tensor, mean, std, inplace)\u001b[0m\n\u001b[1;32m    266\u001b[0m         \u001b[0;32mraise\u001b[0m \u001b[0mTypeError\u001b[0m\u001b[0;34m(\u001b[0m\u001b[0;34m'Input tensor should be a torch tensor. Got {}.'\u001b[0m\u001b[0;34m.\u001b[0m\u001b[0mformat\u001b[0m\u001b[0;34m(\u001b[0m\u001b[0mtype\u001b[0m\u001b[0;34m(\u001b[0m\u001b[0mtensor\u001b[0m\u001b[0;34m)\u001b[0m\u001b[0;34m)\u001b[0m\u001b[0;34m)\u001b[0m\u001b[0;34m\u001b[0m\u001b[0;34m\u001b[0m\u001b[0m\n\u001b[1;32m    267\u001b[0m \u001b[0;34m\u001b[0m\u001b[0m\n\u001b[0;32m--> 268\u001b[0;31m     \u001b[0;32mif\u001b[0m \u001b[0mtensor\u001b[0m\u001b[0;34m.\u001b[0m\u001b[0mndim\u001b[0m \u001b[0;34m<\u001b[0m \u001b[0;36m3\u001b[0m\u001b[0;34m:\u001b[0m\u001b[0;34m\u001b[0m\u001b[0;34m\u001b[0m\u001b[0m\n\u001b[0m\u001b[1;32m    269\u001b[0m         raise ValueError('Expected tensor to be a tensor image of size (..., C, H, W). Got tensor.size() = '\n\u001b[1;32m    270\u001b[0m                          '{}.'.format(tensor.size()))\n",
      "\u001b[0;31mKeyboardInterrupt\u001b[0m: "
     ]
    }
   ],
   "source": [
    "# Training loops\n",
    "import torch.optim as optim\n",
    "import timeit\n",
    "\n",
    "n_epochs = 6\n",
    "learning_rate = 1\n",
    "\n",
    "\n",
    "set_size_loss_tensor_train = torch.zeros(len(training_set_sizes))\n",
    "set_size_loss_tensor_val = torch.zeros(len(training_set_sizes))\n",
    "\n",
    "optimizer.zero_grad()\n",
    "\n",
    "for i, training_set_size in enumerate(training_set_sizes):\n",
    "    tic1 = timeit.default_timer() #Take start time measurement\n",
    "\n",
    "    train_subset = torch.utils.data.Subset(normalized_mnist, list(range(0, training_set_size)))\n",
    "    train_loader = torch.utils.data.DataLoader(train_subset, batch_size=batch_size, shuffle=True)\n",
    "    model.__init__ # Reinitialize model\n",
    "    optimizer = optim.SGD(model.parameters(), lr=learning_rate) #Prepare optimizer\n",
    "\n",
    "\n",
    "    epoch_loss_tensor_train = torch.zeros(n_epochs)\n",
    "\n",
    "    for epoch in range(n_epochs):\n",
    "        tic2 = timeit.default_timer() #Take start time measurement\n",
    "        \n",
    "        batch_loss_sum_train = 0\n",
    "        for imgs_train, labels_train in train_loader:\n",
    "            imgs_train = imgs_train.to(device=device) #Move tensor to device \n",
    "            labels_train = labels_train.to(device=device) #Move tensor to device\n",
    "\n",
    "            outputs_train = model(imgs_train.view(batch_size, -1)) #Unrolls images to a tensor with size [batch_size, 784]\n",
    "\n",
    "            loss_train = loss_fn(outputs_train, labels_train)\n",
    "            batch_loss_sum_train += loss_train.detach()             # detach removes gradient tracking\n",
    "\n",
    "            optimizer.zero_grad()\n",
    "            loss_train.backward()\n",
    "            optimizer.step()\n",
    "\n",
    "        epoch_loss_tensor_train[epoch] = batch_loss_sum_train/len(train_loader)\n",
    "\n",
    "        toc2 = timeit.default_timer() #Take stop time measurement\n",
    "\n",
    "        print(\"Training set size: {}, Epoch: {}, Epoch time: {:0.1f} s, Average epoch training loss: {:0.4f}\".format(training_set_size, epoch, toc2-tic2, float(epoch_loss_tensor_train[epoch])))\n",
    "\n",
    "    \n",
    "    \n",
    "    # Forward propagation\n",
    "    with torch.no_grad(): # Forward propagation does not accumulate gradients\n",
    "\n",
    "        loss_sum_train = 0\n",
    "        loss_sum_val = 0\n",
    "        \n",
    "        for imgs_train, labels_train in train_loader:\n",
    "            imgs_train = imgs_train.to(device=device) #Move tensor to device \n",
    "            labels_train = labels_train.to(device=device) #Move tensor to device\n",
    "\n",
    "            outputs_train = model(imgs_train.view(batch_size, -1))\n",
    "            loss_sum_train += loss_fn(outputs_train, labels_train).detach()\n",
    "\n",
    "        for imgs_val, labels_val in val_loader:\n",
    "            imgs_val = imgs_val.to(device=device) #Move tensor to device \n",
    "            labels_val = labels_val.to(device=device) #Move tensor to device\n",
    "\n",
    "            outputs_val = model(imgs_val.view(batch_size, -1))\n",
    "            loss_sum_val += loss_fn(outputs_val, labels_val).detach()\n",
    "    \n",
    "    print(\"Loss_sum_train: {}, Train loader length: {}\".format(loss_sum_train, len(train_loader)))\n",
    "    print(\"Loss_sum_val: {}, Val loader length: {}\".format(loss_sum_val, len(val_loader)))\n",
    "    set_size_loss_tensor_train[i] = loss_sum_train/len(train_loader) # For plotting learning curves\n",
    "    set_size_loss_tensor_val[i] = loss_sum_val/len(val_loader) # For plotting learning curves\n",
    "    \n",
    "    toc1 = timeit.default_timer() #Take start time measurement\n",
    "    \n",
    "    print(\"Model training complete. Training set size: {}, Training time: {:0.1f} s, Training set loss: {:0.4f}, Validation set loss: {:0.4f}\".format(training_set_size, toc1-tic1, set_size_loss_tensor_train[i], set_size_loss_tensor_val[i]))\n"
   ]
  },
  {
   "cell_type": "code",
   "execution_count": 16,
   "id": "capital-feedback",
   "metadata": {},
   "outputs": [
    {
     "data": {
      "image/png": "[encoded data removed]",
      "text/plain": [
       "<Figure size 432x288 with 1 Axes>"
      ]
     },
     "metadata": {
      "needs_background": "light"
     },
     "output_type": "display_data"
    }
   ],
   "source": [
    "#Evaluate training\n",
    "\n",
    "import numpy as np\n",
    "import matplotlib.pyplot as plt\n",
    "\n",
    "plt.plot(epoch_loss_tensor_train.numpy())\n",
    "plt.xlabel('Epoch')\n",
    "plt.ylabel('Epoch train loss')\n",
    "plt.show()\n"
   ]
  },
  {
   "cell_type": "code",
   "execution_count": 17,
   "id": "tender-integral",
   "metadata": {},
   "outputs": [
    {
     "name": "stdout",
     "output_type": "stream",
     "text": [
      "Training set accuracy: 0.9781\n",
      "Training set cost: 0.0672\n",
      "Validation set accuracy: 0.9661\n",
      "Validation set cost: 0.1154\n"
     ]
    }
   ],
   "source": [
    "#Evaluate model performance\n",
    "\n",
    "loss_tensor_train = torch.zeros(len(train_loader))\n",
    "correct_train = 0\n",
    "total_train = len(normalized_mnist)\n",
    "\n",
    "loss_tensor_val = torch.zeros(len(val_loader))\n",
    "correct_val = 0\n",
    "total_val = len(normalized_mnist_val)\n",
    "\n",
    "with torch.no_grad(): # Forward propagation does not accumulate gradients\n",
    "    \n",
    "    for i, batch_train in enumerate(train_loader):\n",
    "        imgs_train, labels_train = batch_train\n",
    "        \n",
    "        outputs_train = model(imgs_train.view(batch_size, -1))\n",
    "        loss_train = loss_fn(outputs_train, labels_train)\n",
    "        loss_tensor_train[i] = loss_train.detach()\n",
    "        _, predicted_labels_train = torch.max(outputs_train, dim=1)\n",
    "        correct_train += int((predicted_labels_train == labels_train).sum())\n",
    "    \n",
    "    for i, batch_val in enumerate(val_loader):\n",
    "        imgs_val, labels_val = batch_val\n",
    "        \n",
    "        outputs_val = model(imgs_val.view(batch_size, -1))\n",
    "        loss_val = loss_fn(outputs_val, labels_val)\n",
    "        loss_tensor_val[i] = loss_val.detach()\n",
    "        _, predicted_labels_val = torch.max(outputs_val, dim=1)\n",
    "        correct_val += int((predicted_labels_val == labels_val).sum())\n",
    "        \n",
    "    \n",
    "\n",
    "print(\"Training set accuracy: {:0.4f}\".format(correct_train/total_train),\n",
    "      \"Training set cost: {:0.4f}\".format(loss_tensor_train.mean(dim=0)),\n",
    "      \"Validation set accuracy: {:0.4f}\".format(correct_val/total_val),\n",
    "      \"Validation set cost: {:0.4f}\".format(loss_tensor_val.mean(dim=0)),\n",
    "      sep = \"\\n\")"
   ]
  },
  {
   "cell_type": "code",
   "execution_count": null,
   "id": "crazy-matter",
   "metadata": {},
   "outputs": [],
   "source": []
  }
 ],
 "metadata": {
  "kernelspec": {
   "display_name": "Python 3",
   "language": "python",
   "name": "python3"
  },
  "language_info": {
   "codemirror_mode": {
    "name": "ipython",
    "version": 3
   },
   "file_extension": ".py",
   "mimetype": "text/x-python",
   "name": "python",
   "nbconvert_exporter": "python",
   "pygments_lexer": "ipython3",
   "version": "3.8.5"
  }
 },
 "nbformat": 4,
 "nbformat_minor": 5
}
