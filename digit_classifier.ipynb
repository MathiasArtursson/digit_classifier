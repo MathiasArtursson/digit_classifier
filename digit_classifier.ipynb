{
 "cells": [
  {
   "cell_type": "markdown",
   "id": "coral-settle",
   "metadata": {},
   "source": [
    "# Digit classifier with pytorch"
   ]
  },
  {
   "cell_type": "markdown",
   "id": "right-radical",
   "metadata": {},
   "source": [
    "## Settings"
   ]
  },
  {
   "cell_type": "markdown",
   "id": "running-zealand",
   "metadata": {},
   "source": [
    "*%matplotlib inline* allows for plots inside the notebook.\n",
    "Edge items for the print options for tensors are limited, which prints less information for tensors.\n",
    "A manual seed is also set for pytorch."
   ]
  },
  {
   "cell_type": "code",
   "execution_count": 1,
   "id": "confidential-shame",
   "metadata": {},
   "outputs": [
    {
     "data": {
      "text/plain": [
       "<torch._C.Generator at 0x7f432de89930>"
      ]
     },
     "execution_count": 1,
     "metadata": {},
     "output_type": "execute_result"
    }
   ],
   "source": [
    "%matplotlib inline\n",
    "import torch\n",
    "\n",
    "torch.set_printoptions(edgeitems=2)\n",
    "torch.manual_seed(123)"
   ]
  },
  {
   "cell_type": "markdown",
   "id": "every-bracelet",
   "metadata": {},
   "source": [
    "Training device is set, which is either the cpu (slower) or gpu (faster). *torch.cuda.is_available()* evaluates if a compatible gpu is available."
   ]
  },
  {
   "cell_type": "code",
   "execution_count": 2,
   "id": "revised-winner",
   "metadata": {},
   "outputs": [
    {
     "name": "stdout",
     "output_type": "stream",
     "text": [
      "Training device: cpu\n"
     ]
    },
    {
     "name": "stderr",
     "output_type": "stream",
     "text": [
      "/home/mathias/miniconda3/lib/python3.8/site-packages/torch/cuda/__init__.py:52: UserWarning: CUDA initialization: Found no NVIDIA driver on your system. Please check that you have an NVIDIA GPU and installed a driver from http://www.nvidia.com/Download/index.aspx (Triggered internally at  /pytorch/c10/cuda/CUDAFunctions.cpp:100.)\n",
      "  return torch._C._cuda_getDeviceCount() > 0\n"
     ]
    }
   ],
   "source": [
    "device = (torch.device('cuda') if torch.cuda.is_available() else torch.device('cpu'))\n",
    "print(\"Training device: {}\".format(device))"
   ]
  },
  {
   "cell_type": "markdown",
   "id": "breathing-geography",
   "metadata": {},
   "source": [
    "## Prepare dataset"
   ]
  },
  {
   "cell_type": "markdown",
   "id": "critical-wilson",
   "metadata": {},
   "source": [
    "Datasets are downloaded into a new folder in the current directory, if not already found there. Samples are stored as tuples, where images are tensors and labels are integers. "
   ]
  },
  {
   "cell_type": "code",
   "execution_count": 44,
   "id": "verbal-stuart",
   "metadata": {},
   "outputs": [],
   "source": [
    "from torchvision import datasets\n",
    "from torchvision import transforms\n",
    "import os\n",
    "\n",
    "data_path = data_path = os.getcwd() + '/dataset'\n",
    "\n",
    "tensor_mnist = datasets.MNIST(data_path, train=True, download=True, transform=transforms.ToTensor())\n",
    "tensor_mnist_val = datasets.MNIST(data_path, train=False, download=True, transform=transforms.ToTensor())"
   ]
  },
  {
   "cell_type": "markdown",
   "id": "tribal-peace",
   "metadata": {},
   "source": [
    "Information for the datasets and samples are presented. Note that the axes are needed to be changed from C × H × W to H × W × C to allow for plots. This is done with *permute*."
   ]
  },
  {
   "cell_type": "code",
   "execution_count": 45,
   "id": "final-implement",
   "metadata": {},
   "outputs": [
    {
     "name": "stdout",
     "output_type": "stream",
     "text": [
      "Number of samples in training set: 60000\n",
      "Number of samples in validation set: 10000\n",
      "Sample shape: torch.Size([1, 28, 28])\n",
      "Pixel data type: torch.float32\n",
      "Minimum pixel value: 0.0\n",
      "Maximum pixel value: 1.0\n",
      "\n",
      "Example with label = 5:\n"
     ]
    },
    {
     "data": {
      "image/png": "[encoded data removed]",
      "text/plain": [
       "<Figure size 432x288 with 1 Axes>"
      ]
     },
     "metadata": {
      "needs_background": "light"
     },
     "output_type": "display_data"
    }
   ],
   "source": [
    "import matplotlib.pyplot as plt\n",
    "\n",
    "img_t, label = tensor_mnist[0]\n",
    "\n",
    "print(\"Number of samples in training set: {}\".format(len(tensor_mnist)),\n",
    "      \"Number of samples in validation set: {}\".format(len(tensor_mnist_val)),\n",
    "      \"Sample shape: {}\".format(img_t.shape),\n",
    "      \"Pixel data type: {}\".format(img_t.dtype),\n",
    "      \"Minimum pixel value: {}\".format(img_t.min()),\n",
    "      \"Maximum pixel value: {}\".format(img_t.max()),\n",
    "      sep = '\\n')\n",
    "\n",
    "print(\"\\nExample with label = {}:\".format(label))\n",
    "# Axes are changed from C × H × W to H × W × C to allow for plots.\n",
    "plt.imshow(img_t.permute(1, 2, 0)) \n",
    "plt.show()"
   ]
  },
  {
   "cell_type": "markdown",
   "id": "canadian-permission",
   "metadata": {},
   "source": [
    "Data is normalized to ease training further on. This is done as follows:\n",
    "$$\\tilde{x}^i_j = \\frac{x^i_j - \\mu_j}{\\sigma_j}$$\n",
    ", where $\\tilde{x}^i_j$ is the normalized data from sample $i$ and feature $j$, $x^i_j$ the raw data from sample $i$ and feature $j$, $\\mu_j$ the mean over all samples for feature $j$, and $\\sigma_j$ the standard deviation over all sampltes for feature $j$.\n",
    "\n",
    "The mean and standard deviation for all samples are computed by stacking them.\n",
    "\n",
    "The stacked tensor is unrolled using *view*."
   ]
  },
  {
   "cell_type": "code",
   "execution_count": 48,
   "id": "reasonable-interstate",
   "metadata": {},
   "outputs": [
    {
     "name": "stdout",
     "output_type": "stream",
     "text": [
      "Stacked data: torch.Size([1, 28, 28, 60000])\n",
      "Mean of all pixels: 0.1307\n",
      "Standard deviation of all pixels: 0.3081\n"
     ]
    }
   ],
   "source": [
    "# Stack samples\n",
    "imgs = torch.stack([img_t for img_t, _ in tensor_mnist], dim=3)\n",
    "print(\"Stacked data: {}\".format(imgs.shape))\n",
    "\n",
    "\n",
    "# view(1, -1) keeps the first channel and merges all the remaining dimensions into one. \n",
    "# Our 1 × 28 × 28 x 60000 images are transformed into a 1 x (28*28*60000) tensor.\n",
    "imgs_mean = imgs.view(1, -1).mean(dim=1)\n",
    "imgs_std = imgs.view(1, -1).std(dim=1)\n",
    "\n",
    "print(\"Mean of all pixels: {:0.4f}\".format(imgs_mean[0]),\n",
    "      \"Standard deviation of all pixels: {:0.4f}\".format(imgs_std[0]),\n",
    "      sep = '\\n')"
   ]
  },
  {
   "cell_type": "markdown",
   "id": "prepared-diversity",
   "metadata": {},
   "source": [
    "Normalized datasets are fetched using the computed mean and standard deviation. \n",
    "\n",
    "Note that the validation set is normalized with the training set mean and standard deviation. This is because the model will be shaped by the training set. The validation set must therefore have the same data preproccessing, so that the model will recognize validation set samples."
   ]
  },
  {
   "cell_type": "code",
   "execution_count": 38,
   "id": "green-natural",
   "metadata": {},
   "outputs": [],
   "source": [
    "normalized_mnist = datasets.MNIST(data_path, train=True, download=False,\n",
    "                                       transform=transforms.Compose([\n",
    "                                           transforms.ToTensor(),\n",
    "                                           transforms.Normalize(imgs_mean, imgs_std)]))\n",
    "\n",
    "normalized_mnist_val = datasets.MNIST(data_path, train=False, download=False,\n",
    "                                       transform=transforms.Compose([\n",
    "                                           transforms.ToTensor(),\n",
    "                                           transforms.Normalize(imgs_mean, imgs_std)]))"
   ]
  },
  {
   "cell_type": "markdown",
   "id": "every-solomon",
   "metadata": {},
   "source": [
    "The datasets are prepared for training and evaluation by being put in data loaders. This makes the data compatible with forward- and backpropagation methods. \n",
    "\n",
    "The data is also divided into batches. This is made because the training set is very large, and using the whole dataset for forward- and backpropagation would be very computationally expensive."
   ]
  },
  {
   "cell_type": "code",
   "execution_count": 103,
   "id": "skilled-terminology",
   "metadata": {},
   "outputs": [
    {
     "name": "stdout",
     "output_type": "stream",
     "text": [
      "Batch of training images: torch.Size([16, 1, 28, 28])\n",
      "Batch of training labels: torch.Size([16])\n",
      "Batch of validation images: torch.Size([16, 1, 28, 28])\n",
      "Batch of validation labels: torch.Size([16])\n"
     ]
    }
   ],
   "source": [
    "batch_size = 16\n",
    "\n",
    "train_loader = torch.utils.data.DataLoader(normalized_mnist, batch_size=batch_size, shuffle=True)\n",
    "val_loader = torch.utils.data.DataLoader(normalized_mnist_val, batch_size=batch_size, shuffle=False)\n",
    "\n",
    "for imgs_train, labels_train in train_loader:\n",
    "    print(\"Batch of training images: {}\".format(imgs_train.shape),\n",
    "          \"Batch of training labels: {}\".format(labels_train.shape),\n",
    "          sep = \"\\n\")\n",
    "    break\n",
    "for imgs_val, labels_val in val_loader:\n",
    "    print(\"Batch of validation images: {}\".format(imgs_val.shape),\n",
    "          \"Batch of validation labels: {}\".format(labels_val.shape),\n",
    "          sep = \"\\n\")\n",
    "    break"
   ]
  },
  {
   "cell_type": "markdown",
   "id": "stuffed-photography",
   "metadata": {},
   "source": [
    "Large obsolete objects are deleted from memory."
   ]
  },
  {
   "cell_type": "code",
   "execution_count": 49,
   "id": "imperial-parcel",
   "metadata": {},
   "outputs": [],
   "source": [
    "del imgs\n",
    "del tensor_mnist\n",
    "del tensor_mnist_val"
   ]
  },
  {
   "cell_type": "markdown",
   "id": "public-vienna",
   "metadata": {},
   "source": [
    "## Initialize model"
   ]
  },
  {
   "cell_type": "markdown",
   "id": "varied-tennis",
   "metadata": {},
   "source": [
    "A neural network is initialized with one hidden layer."
   ]
  },
  {
   "cell_type": "code",
   "execution_count": 98,
   "id": "finite-masters",
   "metadata": {},
   "outputs": [],
   "source": [
    "# Initialize linear neural network model with one hidden layer. \n",
    "\n",
    "import torch.nn as nn\n",
    "\n",
    "hidden_features = 250\n",
    "\n",
    "model = nn.Sequential(\n",
    "    nn.Linear(784, hidden_features),\n",
    "    nn.Sigmoid(),\n",
    "    nn.Linear(hidden_features, 10),\n",
    "    nn.LogSoftmax(dim=1))          # Converts output vector first to proabilities by\n",
    "                                   # applying function torch.exp(x) / torch.exp(x).sum()\n",
    "                                   # It then takes the log of this. We need the natural logarithmic\n",
    "                                   # expression for the cost later on, and doing the \n",
    "                                   # calculation of ln in the model helps stability"
   ]
  },
  {
   "cell_type": "code",
   "execution_count": 99,
   "id": "humanitarian-oasis",
   "metadata": {},
   "outputs": [
    {
     "name": "stdout",
     "output_type": "stream",
     "text": [
      "Raw image shape: torch.Size([1, 28, 28]), Raw image stride: (1, 28, 1)\n",
      "Unrolled image shape: torch.Size([1, 784]), Unrolled image stride: (784, 1)\n",
      "Label tensor shape: torch.Size([1])\n"
     ]
    }
   ],
   "source": [
    "# Shaping input data\n",
    "# This is done by unrolling the 28x28 image into a 1D vector.\n",
    "# Unrolling is done through \"view\", which changes the stride \n",
    "# of the contiguous linear container of numbers in memory.\n",
    "# view(-1) changes the stride so that the resulting shape becomes\n",
    "# torch.Size([a]), where \"a\" is \"however many indexes are\n",
    "# left, given the other dimensions and the original number of elements.”\n",
    "\n",
    "img, label = normalized_mnist[0]\n",
    "img_unrolled = img.view(-1).unsqueeze(0)    # Cost function requires the first dimension to be the batch, hence we need to add one dimension with unsqueeze \n",
    "label_tensor = torch.tensor([label])\n",
    "\n",
    "print(\"Raw image shape: {}, Raw image stride: {}\".format(img.shape, img.stride()),\n",
    "     \"Unrolled image shape: {}, Unrolled image stride: {}\".format(img_unrolled.shape, img_unrolled.stride()),\n",
    "     \"Label tensor shape: {}\".format(label_tensor.shape),\n",
    "     sep = \"\\n\")\n"
   ]
  },
  {
   "cell_type": "code",
   "execution_count": 100,
   "id": "herbal-taste",
   "metadata": {},
   "outputs": [
    {
     "name": "stdout",
     "output_type": "stream",
     "text": [
      "Label: 5\n",
      "Output from model: tensor([[-2.4796, -2.4591, -2.5340, -2.2044, -2.1045, -2.2420, -2.5525, -2.0934,\n",
      "         -2.2197, -2.2719]], grad_fn=<LogSoftmaxBackward>)\n",
      "Hypothesis probabilities from model: tensor([[0.0838, 0.0855, 0.0793, 0.1103, 0.1219, 0.1062, 0.0779, 0.1233, 0.1086,\n",
      "         0.1031]])\n",
      "The largest probability from the model is 0.1233, i.e. the predicted label is 7.\n"
     ]
    }
   ],
   "source": [
    "# Invoke model\n",
    "import math\n",
    "\n",
    "out = model(img_unrolled)    # natural logarithm of hypothesis probabilities from model \n",
    "out_probabilities = math.e ** out.detach()\n",
    "largest_probability, predicted_label = torch.max(out_probabilities, dim=1)\n",
    "print(\"Label: {}\".format(label),\n",
    "      \"Output from model: {}\".format(out),\n",
    "      \"Hypothesis probabilities from model: {}\".format(out_probabilities),\n",
    "      \"The largest probability from the model is {:0.4f}, i.e. the predicted label is {}.\".format(largest_probability[0], predicted_label[0]),\n",
    "      sep = \"\\n\")"
   ]
  },
  {
   "cell_type": "code",
   "execution_count": 101,
   "id": "adjusted-message",
   "metadata": {},
   "outputs": [],
   "source": [
    "# Instatiate loss function\n",
    "loss_fn = nn.NLLLoss()"
   ]
  },
  {
   "cell_type": "code",
   "execution_count": 102,
   "id": "amazing-vocabulary",
   "metadata": {},
   "outputs": [
    {
     "data": {
      "text/plain": [
       "tensor(2.2420, grad_fn=<NllLossBackward>)"
      ]
     },
     "execution_count": 102,
     "metadata": {},
     "output_type": "execute_result"
    }
   ],
   "source": [
    "# Calculate loss for test image\n",
    "loss_fn(out, label_tensor) #Calculates sum(-out[label])"
   ]
  },
  {
   "cell_type": "code",
   "execution_count": 104,
   "id": "convinced-madison",
   "metadata": {},
   "outputs": [],
   "source": [
    "# Prepare optimizer\n",
    "import torch.optim as optim\n",
    "\n",
    "learning_rate = 1e-1\n",
    "\n",
    "optimizer = optim.SGD(model.parameters(), lr=learning_rate)"
   ]
  },
  {
   "cell_type": "code",
   "execution_count": 105,
   "id": "generic-affairs",
   "metadata": {},
   "outputs": [
    {
     "name": "stdout",
     "output_type": "stream",
     "text": [
      "Epoch: 0, Epoch time: 56.4 s, Train loss: 0.3012\n",
      "Epoch: 1, Epoch time: 80.5 s, Train loss: 0.1375\n",
      "Epoch: 2, Epoch time: 52.1 s, Train loss: 0.0947\n",
      "Epoch: 3, Epoch time: 51.0 s, Train loss: 0.0700\n",
      "Epoch: 4, Epoch time: 51.9 s, Train loss: 0.0540\n",
      "Epoch: 5, Epoch time: 48.9 s, Train loss: 0.0430\n",
      "Epoch: 6, Epoch time: 49.2 s, Train loss: 0.0344\n",
      "Epoch: 7, Epoch time: 49.4 s, Train loss: 0.0275\n",
      "Epoch: 8, Epoch time: 59.5 s, Train loss: 0.0225\n",
      "Epoch: 9, Epoch time: 61.1 s, Train loss: 0.0183\n",
      "Epoch: 10, Epoch time: 52.4 s, Train loss: 0.0151\n",
      "Epoch: 11, Epoch time: 50.6 s, Train loss: 0.0127\n",
      "Epoch: 12, Epoch time: 51.7 s, Train loss: 0.0108\n",
      "Epoch: 13, Epoch time: 55.1 s, Train loss: 0.0092\n",
      "Epoch: 14, Epoch time: 110.5 s, Train loss: 0.0080\n",
      "Epoch: 15, Epoch time: 82.3 s, Train loss: 0.0070\n",
      "Epoch: 16, Epoch time: 100.3 s, Train loss: 0.0062\n",
      "Epoch: 17, Epoch time: 105.0 s, Train loss: 0.0055\n",
      "Epoch: 18, Epoch time: 64.0 s, Train loss: 0.0050\n",
      "Epoch: 19, Epoch time: 68.5 s, Train loss: 0.0046\n",
      "Epoch: 20, Epoch time: 73.5 s, Train loss: 0.0041\n"
     ]
    }
   ],
   "source": [
    "# Training loop\n",
    "import timeit\n",
    "\n",
    "n_epochs = 21\n",
    "\n",
    "epoch_loss_tensor_train = torch.zeros(n_epochs)\n",
    "batch_loss_tensor_train = torch.zeros(len(train_loader))\n",
    "\n",
    "for epoch in range(n_epochs):\n",
    "    tic = timeit.default_timer() #Take start time measurement\n",
    "    \n",
    "    for i, batch_train in enumerate(train_loader):\n",
    "        \n",
    "        imgs_train, labels_train = batch_train\n",
    "        imgs_train = imgs_train.to(device=device) #Move tensor to device \n",
    "        labels_train = labels_train.to(device=device) #Move tensor to device\n",
    "        \n",
    "        outputs_train = model(imgs_train.view(batch_size, -1)) #Unrolls images to a tensor with size [batch_size, 784]\n",
    "        \n",
    "        loss_train = loss_fn(outputs_train, labels_train)\n",
    "        batch_loss_tensor_train[i] = loss_train.detach()             # detach removes gradient tracking\n",
    " \n",
    "        optimizer.zero_grad()\n",
    "        loss_train.backward()\n",
    "        optimizer.step()\n",
    "        \n",
    "    epoch_loss_tensor_train[epoch] = batch_loss_tensor_train.mean(dim=0)\n",
    "    \n",
    "    toc = timeit.default_timer() #Take stop time measurement\n",
    "    \n",
    "    print(\"Epoch: {}, Epoch time: {:0.1f} s, Train loss: {:0.4f}\".format(epoch, toc-tic, float(epoch_loss_tensor_train[epoch])))\n",
    "\n"
   ]
  },
  {
   "cell_type": "code",
   "execution_count": 117,
   "id": "capital-feedback",
   "metadata": {},
   "outputs": [
    {
     "data": {
      "image/png": "[encoded data removed]",
      "text/plain": [
       "<Figure size 432x288 with 1 Axes>"
      ]
     },
     "metadata": {
      "needs_background": "light"
     },
     "output_type": "display_data"
    }
   ],
   "source": [
    "#Evaluate training\n",
    "\n",
    "import numpy as np\n",
    "import matplotlib.pyplot as plt\n",
    "\n",
    "epoch_loss_tensor_train = torch.tensor([0.3012, 0.1375, 0.0947,0.0700,0.0540,0.0430,0.0344,0.0275,0.0225,0.0183,0.0151,0.0127,0.0108,0.0092,0.0080,0.0070,0.0062,0.0055,0.0050,0.0046,0.0041])\n",
    "\n",
    "plt.plot(epoch_loss_tensor_train.numpy())\n",
    "plt.xlabel('Epoch')\n",
    "plt.ylabel('Epoch train loss')\n",
    "plt.show()\n"
   ]
  },
  {
   "cell_type": "code",
   "execution_count": 107,
   "id": "tender-integral",
   "metadata": {},
   "outputs": [
    {
     "name": "stdout",
     "output_type": "stream",
     "text": [
      "Training set accuracy: 0.9999\n",
      "Training set cost: 0.0038\n",
      "Validation set accuracy: 0.9818\n",
      "Validation set cost: 0.0571\n"
     ]
    }
   ],
   "source": [
    "#Evaluate model performance\n",
    "\n",
    "loss_tensor_train = torch.zeros(len(train_loader))\n",
    "correct_train = 0\n",
    "total_train = len(normalized_mnist)\n",
    "\n",
    "loss_tensor_val = torch.zeros(len(val_loader))\n",
    "correct_val = 0\n",
    "total_val = len(normalized_mnist_val)\n",
    "\n",
    "with torch.no_grad(): # Forward propagation does not accumulate gradients\n",
    "    \n",
    "    for i, batch_train in enumerate(train_loader):\n",
    "        imgs_train, labels_train = batch_train\n",
    "        \n",
    "        outputs_train = model(imgs_train.view(batch_size, -1))\n",
    "        loss_train = loss_fn(outputs_train, labels_train)\n",
    "        loss_tensor_train[i] = loss_train.detach()\n",
    "        _, predicted_labels_train = torch.max(outputs_train, dim=1)\n",
    "        correct_train += int((predicted_labels_train == labels_train).sum())\n",
    "    \n",
    "    for i, batch_val in enumerate(val_loader):\n",
    "        imgs_val, labels_val = batch_val\n",
    "        \n",
    "        outputs_val = model(imgs_val.view(batch_size, -1))\n",
    "        loss_val = loss_fn(outputs_val, labels_val)\n",
    "        loss_tensor_val[i] = loss_val.detach()\n",
    "        _, predicted_labels_val = torch.max(outputs_val, dim=1)\n",
    "        correct_val += int((predicted_labels_val == labels_val).sum())\n",
    "        \n",
    "    \n",
    "\n",
    "print(\"Training set accuracy: {:0.4f}\".format(correct_train/total_train),\n",
    "      \"Training set cost: {:0.4f}\".format(loss_tensor_train.mean(dim=0)),\n",
    "      \"Validation set accuracy: {:0.4f}\".format(correct_val/total_val),\n",
    "      \"Validation set cost: {:0.4f}\".format(loss_tensor_val.mean(dim=0)),\n",
    "      sep = \"\\n\")"
   ]
  },
  {
   "cell_type": "code",
   "execution_count": null,
   "id": "crazy-matter",
   "metadata": {},
   "outputs": [],
   "source": []
  }
 ],
 "metadata": {
  "kernelspec": {
   "display_name": "Python 3",
   "language": "python",
   "name": "python3"
  },
  "language_info": {
   "codemirror_mode": {
    "name": "ipython",
    "version": 3
   },
   "file_extension": ".py",
   "mimetype": "text/x-python",
   "name": "python",
   "nbconvert_exporter": "python",
   "pygments_lexer": "ipython3",
   "version": "3.8.5"
  }
 },
 "nbformat": 4,
 "nbformat_minor": 5
}
